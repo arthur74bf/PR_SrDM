{
 "cells": [
  {
   "cell_type": "code",
   "execution_count": 3,
   "outputs": [
    {
     "name": "stdout",
     "output_type": "stream",
     "text": [
      "The thresholds that yield a recall >= 0.9 are: [0.1, 0.2]\n"
     ]
    }
   ],
   "source": [
    "import numpy as np\n",
    "from sklearn.metrics import confusion_matrix\n",
    "from sklearn.datasets import make_classification\n",
    "from sklearn.model_selection import train_test_split\n",
    "from sklearn.linear_model import LogisticRegression\n",
    "\n",
    "\n",
    "def compute_metrics(y_test, y_probs, thresholds):\n",
    "    \"\"\"\n",
    "    Compute metrics for each threshold.\n",
    "    :param y_test:  The true labels of the test set.\n",
    "    :param y_probs: The predicted probabilities for the positive class.\n",
    "    :param thresholds:  The list of thresholds to evaluate.\n",
    "    :return:  A dictionary containing the threshold as the key and its corresponding\n",
    "              confusion matrix values (tp, tn, fp, fn) as the value.\n",
    "    \"\"\"\n",
    "\n",
    "    metrics_dict = {}\n",
    "    for threshold in thresholds:\n",
    "        y_pred = (y_probs >= threshold).astype(int)\n",
    "        tn, fp, fn, tp = confusion_matrix(y_test, y_pred).ravel()\n",
    "        metrics_dict[threshold] = (tp, tn, fp, fn)\n",
    "    return metrics_dict\n",
    "\n",
    "\n",
    "def find_threshold(metrics_dict, recall_threshold=0.9):\n",
    "    \"\"\"\n",
    "    Find thresholds with a recall greater than or equal to the given recall_threshold.\n",
    "    :param metrics_dict: A dictionary containing the threshold as the key and its corresponding confusion matrix values (tp, tn, fp, fn) as the value.\n",
    "    :param recall_threshold:  recall_threshold (float, optional): The minimum recall value. Defaults to 0.9.\n",
    "    :return: Yields float Thresholds that satisfy the given recall_threshold.\n",
    "    \"\"\"\n",
    "    if not metrics_dict:\n",
    "        return None\n",
    "    for threshold, metrics in metrics_dict.items():\n",
    "        tp, tn, fp, fn = metrics\n",
    "        recalls = tp / (tp + fn)\n",
    "        if recalls >= recall_threshold:\n",
    "            yield threshold\n",
    "\n",
    "\n",
    "# Generate synthetic binary classification dataset\n",
    "X, y = make_classification(n_samples=1000, n_features=20, random_state=42)\n",
    "\n",
    "# Split the dataset into training and testing sets\n",
    "X_train, X_test, y_train, y_test = train_test_split(X, y, test_size=0.2, random_state=42)\n",
    "\n",
    "# Train a binary classification model (Logistic Regression)\n",
    "clf = LogisticRegression(random_state=42)\n",
    "clf.fit(X_train, y_train)\n",
    "\n",
    "# Predict probabilities for the test set\n",
    "y_probs = clf.predict_proba(X_test)[:, 1]\n",
    "\n",
    "# Define thresholds\n",
    "thresholds = np.arange(0.1, 1.0, 0.1)\n",
    "\n",
    "# Compute the metrics for each threshold\n",
    "metrics_dict = compute_metrics(y_test, y_probs, thresholds)\n",
    "\n",
    "# Find the thresholds that yield a recall >= 0.9\n",
    "result = list(find_threshold(metrics_dict))\n",
    "\n",
    "if result:\n",
    "    print(f\"The thresholds that yield a recall >= 0.9 are: {result}\")\n",
    "else:\n",
    "    print(\"No threshold found that yields a recall >= 0.9\")\n"
   ],
   "metadata": {
    "collapsed": false
   }
  }
 ],
 "metadata": {
  "kernelspec": {
   "display_name": "Python 3",
   "language": "python",
   "name": "python3"
  },
  "language_info": {
   "codemirror_mode": {
    "name": "ipython",
    "version": 2
   },
   "file_extension": ".py",
   "mimetype": "text/x-python",
   "name": "python",
   "nbconvert_exporter": "python",
   "pygments_lexer": "ipython2",
   "version": "2.7.6"
  }
 },
 "nbformat": 4,
 "nbformat_minor": 0
}
